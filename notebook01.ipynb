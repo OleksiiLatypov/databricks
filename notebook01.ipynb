{
 "cells": [
  {
   "cell_type": "code",
   "execution_count": 0,
   "metadata": {
    "application/vnd.databricks.v1+cell": {
     "cellMetadata": {
      "byteLimit": 2048000,
      "rowLimit": 10000
     },
     "inputWidgets": {},
     "nuid": "3af3a555-be23-4d7b-ad0c-b1b22c52cece",
     "showTitle": false,
     "tableResultSettingsMap": {},
     "title": ""
    }
   },
   "outputs": [],
   "source": [
    "dbutils.widgets.dropdown(\"enviroment\", \"Dev\", [\"Dev\", \"Test\", \"Prod\"])"
   ]
  },
  {
   "cell_type": "code",
   "execution_count": 0,
   "metadata": {
    "application/vnd.databricks.v1+cell": {
     "cellMetadata": {
      "byteLimit": 2048000,
      "rowLimit": 10000
     },
     "inputWidgets": {},
     "nuid": "cbcb4554-b678-4408-8673-92fcce0243c4",
     "showTitle": false,
     "tableResultSettingsMap": {},
     "title": ""
    }
   },
   "outputs": [],
   "source": [
    "env = dbutils.widgets.get(\"enviroment\")\n",
    "print(f\"This job is running in the {env} enviroment\")"
   ]
  },
  {
   "cell_type": "code",
   "execution_count": 0,
   "metadata": {
    "application/vnd.databricks.v1+cell": {
     "cellMetadata": {
      "byteLimit": 2048000,
      "rowLimit": 10000
     },
     "inputWidgets": {},
     "nuid": "f43a4fe4-4776-4db6-aef4-632e87b1fed4",
     "showTitle": false,
     "tableResultSettingsMap": {},
     "title": ""
    }
   },
   "outputs": [],
   "source": [
    "print('Workflow 01 - Load to Raw')"
   ]
  },
  {
   "cell_type": "code",
   "execution_count": 0,
   "metadata": {
    "application/vnd.databricks.v1+cell": {
     "cellMetadata": {
      "byteLimit": 2048000,
      "rowLimit": 10000
     },
     "inputWidgets": {},
     "nuid": "6b3d10c9-2780-4354-8221-3879772892bc",
     "showTitle": false,
     "tableResultSettingsMap": {},
     "title": ""
    }
   },
   "outputs": [],
   "source": [
    "df = spark.read.parquet(\"/Volumes/dbacademy/ops/labuser10171533_1746522607@vocareum_com/car_prices.parquet\")\n",
    "display(df)"
   ]
  },
  {
   "cell_type": "code",
   "execution_count": 0,
   "metadata": {
    "application/vnd.databricks.v1+cell": {
     "cellMetadata": {
      "byteLimit": 2048000,
      "rowLimit": 10000
     },
     "inputWidgets": {},
     "nuid": "975a7ec8-3101-4012-95bd-a39623e2cb0b",
     "showTitle": false,
     "tableResultSettingsMap": {},
     "title": ""
    }
   },
   "outputs": [],
   "source": [
    "df.schema"
   ]
  },
  {
   "cell_type": "code",
   "execution_count": 0,
   "metadata": {
    "application/vnd.databricks.v1+cell": {
     "cellMetadata": {
      "byteLimit": 2048000,
      "implicitDf": true,
      "rowLimit": 10000
     },
     "inputWidgets": {},
     "nuid": "605dbeff-fe42-46e5-83ca-ef473a1c62c2",
     "showTitle": false,
     "tableResultSettingsMap": {},
     "title": ""
    }
   },
   "outputs": [],
   "source": [
    "%sql\n",
    "\n",
    "SHOW CATALOGS;\n"
   ]
  },
  {
   "cell_type": "code",
   "execution_count": 0,
   "metadata": {
    "application/vnd.databricks.v1+cell": {
     "cellMetadata": {
      "byteLimit": 2048000,
      "implicitDf": true,
      "rowLimit": 10000
     },
     "inputWidgets": {},
     "nuid": "d1ab1541-2916-40ea-bc35-1cd72293668e",
     "showTitle": false,
     "tableResultSettingsMap": {},
     "title": ""
    }
   },
   "outputs": [],
   "source": [
    "%python\n",
    "from pyspark.sql import functions as F\n",
    "\n",
    "df[['year','make', 'model', 'sellingprice', 'mmr']].\\\n",
    "    filter(\n",
    "    df['year'].isin(list(range(2010, 2016))) &\n",
    "    df['make'].isin('Toyota') &\n",
    "    df['model'].isin('Camry', 'Corolla')\n",
    "    ).\\\n",
    "    groupBy('year', 'make', 'model').\\\n",
    "    agg(\n",
    "    F.round(F.avg('sellingprice'), 2).alias('sellingprice'),\n",
    "    F.round(F.avg('mmr'), 2).alias('mmr'),\n",
    "    F.round(F.avg('mmr') - F.avg('sellingprice'), 2).alias('diff')\n",
    "    ).\\\n",
    "    orderBy('year', 'make', 'model').\\\n",
    "    display()"
   ]
  },
  {
   "cell_type": "code",
   "execution_count": 0,
   "metadata": {
    "application/vnd.databricks.v1+cell": {
     "cellMetadata": {
      "byteLimit": 2048000,
      "implicitDf": true,
      "rowLimit": 10000
     },
     "inputWidgets": {},
     "nuid": "7cc0e568-2d00-4bb9-9be4-231437d491da",
     "showTitle": false,
     "tableResultSettingsMap": {},
     "title": ""
    }
   },
   "outputs": [],
   "source": [
    "%sql\n",
    "SELECT make,\n",
    "       model, \n",
    "       COUNT(*) AS amount_of_cars,\n",
    "       ROUND(AVG(sellingprice)) AS avg_price\n",
    "       FROM parquet. `/Volumes/dbacademy/ops/labuser10171533_1746522607@vocareum_com/car_prices.parquet`\n",
    "GROUP BY model, make\n",
    "HAVING make IS NOT NULL\n",
    "ORDER BY amount_of_cars DESC\n",
    "LIMIT 10;"
   ]
  }
 ],
 "metadata": {
  "application/vnd.databricks.v1+notebook": {
   "computePreferences": null,
   "dashboards": [],
   "environmentMetadata": {
    "base_environment": "",
    "environment_version": "2"
   },
   "inputWidgetPreferences": null,
   "language": "python",
   "notebookMetadata": {
    "mostRecentlyExecutedCommandWithImplicitDF": {
     "commandId": 6572343697493299,
     "dataframes": [
      "_sqldf"
     ]
    },
    "pythonIndentUnit": 4
   },
   "notebookName": "notebook01",
   "widgets": {
    "enviroment": {
     "currentValue": "Dev",
     "nuid": "cff4ec24-d0cf-4cd9-8648-c0b73f98e5fa",
     "typedWidgetInfo": {
      "autoCreated": false,
      "defaultValue": "Dev",
      "label": null,
      "name": "enviroment",
      "options": {
       "widgetDisplayType": "Dropdown",
       "choices": [
        "Dev",
        "Test",
        "Prod"
       ],
       "fixedDomain": true,
       "multiselect": false
      },
      "parameterDataType": "String"
     },
     "widgetInfo": {
      "widgetType": "dropdown",
      "defaultValue": "Dev",
      "label": null,
      "name": "enviroment",
      "options": {
       "widgetType": "dropdown",
       "autoCreated": false,
       "choices": [
        "Dev",
        "Test",
        "Prod"
       ]
      }
     }
    }
   }
  },
  "language_info": {
   "name": "python"
  }
 },
 "nbformat": 4,
 "nbformat_minor": 0
}
